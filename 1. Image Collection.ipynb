{
 "cells": [
  {
   "cell_type": "markdown",
   "metadata": {},
   "source": [
    "# 1. Import Dependencies"
   ]
  },
  {
   "cell_type": "code",
   "execution_count": 1,
   "metadata": {},
   "outputs": [
    {
     "name": "stdout",
     "output_type": "stream",
     "text": [
      "Collecting opencv-python\n",
      "  Using cached opencv_python-4.6.0.66-cp36-abi3-win_amd64.whl (35.6 MB)\n",
      "Collecting numpy>=1.19.3\n",
      "  Downloading numpy-1.23.1-cp39-cp39-win_amd64.whl (14.7 MB)\n",
      "     ---------------------------------------- 14.7/14.7 MB 3.8 MB/s eta 0:00:00\n",
      "Installing collected packages: numpy, opencv-python\n",
      "Successfully installed numpy-1.23.1 opencv-python-4.6.0.66\n"
     ]
    }
   ],
   "source": [
    "!pip install opencv-python"
   ]
  },
  {
   "cell_type": "code",
   "execution_count": 2,
   "metadata": {},
   "outputs": [],
   "source": [
    "# Import opencv\n",
    "import cv2 \n",
    "\n",
    "# Import uuid\n",
    "import uuid\n",
    "\n",
    "# Import Operating System\n",
    "import os\n",
    "\n",
    "# Import time\n",
    "import time"
   ]
  },
  {
   "cell_type": "markdown",
   "metadata": {},
   "source": [
    "# 2. Define Images to Collect"
   ]
  },
  {
   "cell_type": "code",
   "execution_count": 3,
   "metadata": {},
   "outputs": [],
   "source": [
    "labels = ['thumbsup', 'thumbsdown', 'thankyou', 'livelong']\n",
    "number_imgs = 5"
   ]
  },
  {
   "cell_type": "markdown",
   "metadata": {},
   "source": [
    "# 3. Setup Folders "
   ]
  },
  {
   "cell_type": "code",
   "execution_count": 4,
   "metadata": {},
   "outputs": [],
   "source": [
    "IMAGES_PATH = os.path.join('Tensorflow', 'workspace', 'images', 'collectedimages')"
   ]
  },
  {
   "cell_type": "code",
   "execution_count": 5,
   "metadata": {},
   "outputs": [],
   "source": [
    "if not os.path.exists(IMAGES_PATH):\n",
    "    if os.name == 'posix':\n",
    "        !mkdir -p {IMAGES_PATH}\n",
    "    if os.name == 'nt':\n",
    "         !mkdir {IMAGES_PATH}\n",
    "for label in labels:\n",
    "    path = os.path.join(IMAGES_PATH, label)\n",
    "    if not os.path.exists(path):\n",
    "        !mkdir {path}"
   ]
  },
  {
   "cell_type": "markdown",
   "metadata": {},
   "source": [
    "# 4. Capture Images"
   ]
  },
  {
   "cell_type": "code",
   "execution_count": 9,
   "metadata": {},
   "outputs": [
    {
     "name": "stdout",
     "output_type": "stream",
     "text": [
      "Collecting images for thumbsup\n",
      "Collecting image 0\n",
      "Collecting image 1\n",
      "Collecting image 2\n",
      "Collecting image 3\n",
      "Collecting image 4\n",
      "Collecting images for thumbsdown\n",
      "Collecting image 0\n",
      "Collecting image 1\n",
      "Collecting image 2\n",
      "Collecting image 3\n",
      "Collecting image 4\n",
      "Collecting images for thankyou\n",
      "Collecting image 0\n",
      "Collecting image 1\n",
      "Collecting image 2\n",
      "Collecting image 3\n",
      "Collecting image 4\n",
      "Collecting images for livelong\n",
      "Collecting image 0\n",
      "Collecting image 1\n",
      "Collecting image 2\n",
      "Collecting image 3\n",
      "Collecting image 4\n"
     ]
    }
   ],
   "source": [
    "for label in labels:\n",
    "    cap = cv2.VideoCapture(0)\n",
    "    print('Collecting images for {}'.format(label))\n",
    "    time.sleep(5)\n",
    "    for imgnum in range(number_imgs):\n",
    "        print('Collecting image {}'.format(imgnum))\n",
    "        ret, frame = cap.read()\n",
    "        imgname = os.path.join(IMAGES_PATH,label,label+'.'+'{}.jpg'.format(str(uuid.uuid1())))\n",
    "        cv2.imwrite(imgname, frame)\n",
    "        cv2.imshow('frame', frame)\n",
    "        time.sleep(2)\n",
    "\n",
    "        if cv2.waitKey(1) & 0xFF == ord('q'):\n",
    "            break\n",
    "cap.release()\n",
    "cv2.destroyAllWindows()"
   ]
  },
  {
   "cell_type": "markdown",
   "metadata": {},
   "source": [
    "# 5. Image Labelling"
   ]
  },
  {
   "cell_type": "code",
   "execution_count": 10,
   "metadata": {},
   "outputs": [
    {
     "name": "stdout",
     "output_type": "stream",
     "text": [
      "Collecting pyqt5\n",
      "  Downloading PyQt5-5.15.7-cp37-abi3-win_amd64.whl (6.8 MB)\n",
      "     ---------------------------------------- 6.8/6.8 MB 3.6 MB/s eta 0:00:00\n",
      "Collecting lxml\n",
      "  Downloading lxml-4.9.1-cp39-cp39-win_amd64.whl (3.6 MB)\n",
      "     ---------------------------------------- 3.6/3.6 MB 3.3 MB/s eta 0:00:00\n",
      "Collecting PyQt5-sip<13,>=12.11\n",
      "  Downloading PyQt5_sip-12.11.0-cp39-cp39-win_amd64.whl (78 kB)\n",
      "     ---------------------------------------- 78.3/78.3 kB 2.2 MB/s eta 0:00:00\n",
      "Collecting PyQt5-Qt5>=5.15.0\n",
      "  Downloading PyQt5_Qt5-5.15.2-py3-none-win_amd64.whl (50.1 MB)\n",
      "     ---------------------------------------- 50.1/50.1 MB 2.7 MB/s eta 0:00:00\n",
      "Installing collected packages: PyQt5-Qt5, PyQt5-sip, lxml, pyqt5\n",
      "Successfully installed PyQt5-Qt5-5.15.2 PyQt5-sip-12.11.0 lxml-4.9.1 pyqt5-5.15.7\n"
     ]
    }
   ],
   "source": [
    "!pip install --upgrade pyqt5 lxml"
   ]
  },
  {
   "cell_type": "code",
   "execution_count": 11,
   "metadata": {},
   "outputs": [],
   "source": [
    "LABELIMG_PATH = os.path.join('Tensorflow', 'labelimg')"
   ]
  },
  {
   "cell_type": "code",
   "execution_count": 12,
   "metadata": {},
   "outputs": [
    {
     "name": "stderr",
     "output_type": "stream",
     "text": [
      "Cloning into 'Tensorflow\\labelimg'...\n"
     ]
    }
   ],
   "source": [
    "if not os.path.exists(LABELIMG_PATH):\n",
    "    !mkdir {LABELIMG_PATH}\n",
    "    !git clone https://github.com/tzutalin/labelImg {LABELIMG_PATH}"
   ]
  },
  {
   "cell_type": "code",
   "execution_count": 13,
   "metadata": {},
   "outputs": [],
   "source": [
    "if os.name == 'posix':\n",
    "    !make qt5py3\n",
    "if os.name =='nt':\n",
    "    !cd {LABELIMG_PATH} && pyrcc5 -o libs/resources.py resources.qrc"
   ]
  },
  {
   "cell_type": "code",
   "execution_count": 16,
   "metadata": {},
   "outputs": [
    {
     "name": "stdout",
     "output_type": "stream",
     "text": [
      "Image:D:\\Technology\\Python Projects\\Computer Vision Project\\TFODCourse-main\\Tensorflow\\workspace\\images\\collectedimages\\thankyou\\thankyou.64c7decd-126d-11ed-8e54-c821587e8221.jpg -> Annotation:D:/Technology/Python Projects/Computer Vision Project/TFODCourse-main/Tensorflow/workspace/images/collectedimages/thankyou\\thankyou.64c7decd-126d-11ed-8e54-c821587e8221.xml\n",
      "Image:D:\\Technology\\Python Projects\\Computer Vision Project\\TFODCourse-main\\Tensorflow\\workspace\\images\\collectedimages\\thankyou\\thankyou.64c9aa5d-1272-11ed-b6e5-c821587e8221.jpg -> Annotation:D:/Technology/Python Projects/Computer Vision Project/TFODCourse-main/Tensorflow/workspace/images/collectedimages/thankyou\\thankyou.64c9aa5d-1272-11ed-b6e5-c821587e8221.xml\n",
      "Image:D:\\Technology\\Python Projects\\Computer Vision Project\\TFODCourse-main\\Tensorflow\\workspace\\images\\collectedimages\\thankyou\\thankyou.69ab6d83-1272-11ed-baa8-c821587e8221.jpg -> Annotation:D:/Technology/Python Projects/Computer Vision Project/TFODCourse-main/Tensorflow/workspace/images/collectedimages/thankyou\\thankyou.69ab6d83-1272-11ed-baa8-c821587e8221.xml\n",
      "Image:D:\\Technology\\Python Projects\\Computer Vision Project\\TFODCourse-main\\Tensorflow\\workspace\\images\\collectedimages\\thankyou\\thankyou.611f81a8-126d-11ed-b157-c821587e8221.jpg -> Annotation:D:/Technology/Python Projects/Computer Vision Project/TFODCourse-main/Tensorflow/workspace/images/collectedimages/thankyou\\thankyou.611f81a8-126d-11ed-b157-c821587e8221.xml\n",
      "Image:D:\\Technology\\Python Projects\\Computer Vision Project\\TFODCourse-main\\Tensorflow\\workspace\\images\\collectedimages\\thankyou\\thankyou.638e428f-126d-11ed-a02a-c821587e8221.jpg -> Annotation:D:/Technology/Python Projects/Computer Vision Project/TFODCourse-main/Tensorflow/workspace/images/collectedimages/thankyou\\thankyou.638e428f-126d-11ed-a02a-c821587e8221.xml\n",
      "Image:D:\\Technology\\Python Projects\\Computer Vision Project\\TFODCourse-main\\Tensorflow\\workspace\\images\\collectedimages\\thankyou\\thankyou.673d195e-1272-11ed-bb17-c821587e8221.jpg -> Annotation:D:/Technology/Python Projects/Computer Vision Project/TFODCourse-main/Tensorflow/workspace/images/collectedimages/thankyou\\thankyou.673d195e-1272-11ed-bb17-c821587e8221.xml\n",
      "Image:D:\\Technology\\Python Projects\\Computer Vision Project\\TFODCourse-main\\Tensorflow\\workspace\\images\\collectedimages\\thankyou\\thankyou.6605ab4d-1272-11ed-9287-c821587e8221.jpg -> Annotation:D:/Technology/Python Projects/Computer Vision Project/TFODCourse-main/Tensorflow/workspace/images/collectedimages/thankyou\\thankyou.6605ab4d-1272-11ed-9287-c821587e8221.xml\n",
      "Image:D:\\Technology\\Python Projects\\Computer Vision Project\\TFODCourse-main\\Tensorflow\\workspace\\images\\collectedimages\\thankyou\\thankyou.687430f2-1272-11ed-980e-c821587e8221.jpg -> Annotation:D:/Technology/Python Projects/Computer Vision Project/TFODCourse-main/Tensorflow/workspace/images/collectedimages/thankyou\\thankyou.687430f2-1272-11ed-980e-c821587e8221.xml\n",
      "Image:D:\\Technology\\Python Projects\\Computer Vision Project\\TFODCourse-main\\Tensorflow\\workspace\\images\\collectedimages\\thankyou\\thankyou.6600046e-126d-11ed-b902-c821587e8221.jpg -> Annotation:D:/Technology/Python Projects/Computer Vision Project/TFODCourse-main/Tensorflow/workspace/images/collectedimages/thankyou\\thankyou.6600046e-126d-11ed-b902-c821587e8221.xml\n",
      "Image:D:\\Technology\\Python Projects\\Computer Vision Project\\TFODCourse-main\\Tensorflow\\workspace\\images\\collectedimages\\thankyou\\thankyou.62563267-126d-11ed-a8a8-c821587e8221.jpg -> Annotation:D:/Technology/Python Projects/Computer Vision Project/TFODCourse-main/Tensorflow/workspace/images/collectedimages/thankyou\\thankyou.62563267-126d-11ed-a8a8-c821587e8221.xml\n",
      "Image:D:\\Technology\\Python Projects\\Computer Vision Project\\TFODCourse-main\\Tensorflow\\workspace\\images\\collectedimages\\thumbsdown\\thumbsdown.5a38db64-126d-11ed-8384-c821587e8221.jpg -> Annotation:D:/Technology/Python Projects/Computer Vision Project/TFODCourse-main/Tensorflow/workspace/images/collectedimages/thumbsdown\\thumbsdown.5a38db64-126d-11ed-8384-c821587e8221.xml\n",
      "Image:D:\\Technology\\Python Projects\\Computer Vision Project\\TFODCourse-main\\Tensorflow\\workspace\\images\\collectedimages\\thumbsdown\\thumbsdown.5d0b2c3a-1272-11ed-8ea9-c821587e8221.jpg -> Annotation:D:/Technology/Python Projects/Computer Vision Project/TFODCourse-main/Tensorflow/workspace/images/collectedimages/thumbsdown\\thumbsdown.5d0b2c3a-1272-11ed-8ea9-c821587e8221.xml\n",
      "Image:D:\\Technology\\Python Projects\\Computer Vision Project\\TFODCourse-main\\Tensorflow\\workspace\\images\\collectedimages\\thumbsdown\\thumbsdown.5e43adc7-1272-11ed-886b-c821587e8221.jpg -> Annotation:D:/Technology/Python Projects/Computer Vision Project/TFODCourse-main/Tensorflow/workspace/images/collectedimages/thumbsdown\\thumbsdown.5e43adc7-1272-11ed-886b-c821587e8221.xml\n",
      "Image:D:\\Technology\\Python Projects\\Computer Vision Project\\TFODCourse-main\\Tensorflow\\workspace\\images\\collectedimages\\thumbsdown\\thumbsdown.5f7886bc-1272-11ed-b0ab-c821587e8221.jpg -> Annotation:D:/Technology/Python Projects/Computer Vision Project/TFODCourse-main/Tensorflow/workspace/images/collectedimages/thumbsdown\\thumbsdown.5f7886bc-1272-11ed-b0ab-c821587e8221.xml\n",
      "Image:D:\\Technology\\Python Projects\\Computer Vision Project\\TFODCourse-main\\Tensorflow\\workspace\\images\\collectedimages\\thumbsdown\\thumbsdown.57c9e97f-126d-11ed-b62d-c821587e8221.jpg -> Annotation:D:/Technology/Python Projects/Computer Vision Project/TFODCourse-main/Tensorflow/workspace/images/collectedimages/thumbsdown\\thumbsdown.57c9e97f-126d-11ed-b62d-c821587e8221.xml\n",
      "Image:D:\\Technology\\Python Projects\\Computer Vision Project\\TFODCourse-main\\Tensorflow\\workspace\\images\\collectedimages\\thumbsdown\\thumbsdown.555acb52-126d-11ed-835b-c821587e8221.jpg -> Annotation:D:/Technology/Python Projects/Computer Vision Project/TFODCourse-main/Tensorflow/workspace/images/collectedimages/thumbsdown\\thumbsdown.555acb52-126d-11ed-835b-c821587e8221.xml\n",
      "Image:D:\\Technology\\Python Projects\\Computer Vision Project\\TFODCourse-main\\Tensorflow\\workspace\\images\\collectedimages\\thumbsdown\\thumbsdown.5690f020-126d-11ed-bf6b-c821587e8221.jpg -> Annotation:D:/Technology/Python Projects/Computer Vision Project/TFODCourse-main/Tensorflow/workspace/images/collectedimages/thumbsdown\\thumbsdown.5690f020-126d-11ed-bf6b-c821587e8221.xml\n",
      "Image:D:\\Technology\\Python Projects\\Computer Vision Project\\TFODCourse-main\\Tensorflow\\workspace\\images\\collectedimages\\thumbsdown\\thumbsdown.59002fa8-126d-11ed-b0ab-c821587e8221.jpg -> Annotation:D:/Technology/Python Projects/Computer Vision Project/TFODCourse-main/Tensorflow/workspace/images/collectedimages/thumbsdown\\thumbsdown.59002fa8-126d-11ed-b0ab-c821587e8221.xml\n",
      "Image:D:\\Technology\\Python Projects\\Computer Vision Project\\TFODCourse-main\\Tensorflow\\workspace\\images\\collectedimages\\thumbsup\\thumbsup.4aa3bb4e-126d-11ed-9c2e-c821587e8221.jpg -> Annotation:D:/Technology/Python Projects/Computer Vision Project/TFODCourse-main/Tensorflow/workspace/images/collectedimages/thumbsup\\thumbsup.4aa3bb4e-126d-11ed-9c2e-c821587e8221.xml\n",
      "Image:D:\\Technology\\Python Projects\\Computer Vision Project\\TFODCourse-main\\Tensorflow\\workspace\\images\\collectedimages\\thumbsup\\thumbsup.4bdcf941-126d-11ed-a9e3-c821587e8221 - Copy.jpg -> Annotation:D:/Technology/Python Projects/Computer Vision Project/TFODCourse-main/Tensorflow/workspace/images/collectedimages/thumbsup\\thumbsup.4bdcf941-126d-11ed-a9e3-c821587e8221 - Copy.xml\n",
      "Image:D:\\Technology\\Python Projects\\Computer Vision Project\\TFODCourse-main\\Tensorflow\\workspace\\images\\collectedimages\\thumbsup\\thumbsup.4bdcf941-126d-11ed-a9e3-c821587e8221.jpg -> Annotation:D:/Technology/Python Projects/Computer Vision Project/TFODCourse-main/Tensorflow/workspace/images/collectedimages/thumbsup\\thumbsup.4bdcf941-126d-11ed-a9e3-c821587e8221.xml\n",
      "Image:D:\\Technology\\Python Projects\\Computer Vision Project\\TFODCourse-main\\Tensorflow\\workspace\\images\\collectedimages\\thumbsup\\thumbsup.4d16d698-126d-11ed-86b4-c821587e8221.jpg -> Annotation:D:/Technology/Python Projects/Computer Vision Project/TFODCourse-main/Tensorflow/workspace/images/collectedimages/thumbsup\\thumbsup.4d16d698-126d-11ed-86b4-c821587e8221.xml\n",
      "Image:D:\\Technology\\Python Projects\\Computer Vision Project\\TFODCourse-main\\Tensorflow\\workspace\\images\\collectedimages\\thumbsup\\thumbsup.4e5003bb-126d-11ed-97f3-c821587e8221.jpg -> Annotation:D:/Technology/Python Projects/Computer Vision Project/TFODCourse-main/Tensorflow/workspace/images/collectedimages/thumbsup\\thumbsup.4e5003bb-126d-11ed-97f3-c821587e8221.xml\n",
      "Image:D:\\Technology\\Python Projects\\Computer Vision Project\\TFODCourse-main\\Tensorflow\\workspace\\images\\collectedimages\\thumbsup\\thumbsup.52d5d611-1272-11ed-8fd5-c821587e8221.jpg -> Annotation:D:/Technology/Python Projects/Computer Vision Project/TFODCourse-main/Tensorflow/workspace/images/collectedimages/thumbsup\\thumbsup.52d5d611-1272-11ed-8fd5-c821587e8221.xml\n",
      "Image:D:\\Technology\\Python Projects\\Computer Vision Project\\TFODCourse-main\\Tensorflow\\workspace\\images\\collectedimages\\thumbsup\\thumbsup.519f9fb4-1272-11ed-8373-c821587e8221.jpg -> Annotation:D:/Technology/Python Projects/Computer Vision Project/TFODCourse-main/Tensorflow/workspace/images/collectedimages/thumbsup\\thumbsup.519f9fb4-1272-11ed-8373-c821587e8221.xml\n",
      "Image:D:\\Technology\\Python Projects\\Computer Vision Project\\TFODCourse-main\\Tensorflow\\workspace\\images\\collectedimages\\thumbsup\\thumbsup.540f16d4-1272-11ed-9a00-c821587e8221.jpg -> Annotation:D:/Technology/Python Projects/Computer Vision Project/TFODCourse-main/Tensorflow/workspace/images/collectedimages/thumbsup\\thumbsup.540f16d4-1272-11ed-9a00-c821587e8221.xml\n",
      "Image:D:\\Technology\\Python Projects\\Computer Vision Project\\TFODCourse-main\\Tensorflow\\workspace\\images\\collectedimages\\thumbsup\\thumbsup.5548c7e5-1272-11ed-a920-c821587e8221.jpg -> Annotation:D:/Technology/Python Projects/Computer Vision Project/TFODCourse-main/Tensorflow/workspace/images/collectedimages/thumbsup\\thumbsup.5548c7e5-1272-11ed-a920-c821587e8221.xml\n"
     ]
    }
   ],
   "source": [
    "!cd {LABELIMG_PATH} && python labelImg.py"
   ]
  },
  {
   "cell_type": "markdown",
   "metadata": {},
   "source": [
    "# 6. Move them into a Training and Testing Partition"
   ]
  },
  {
   "cell_type": "markdown",
   "metadata": {},
   "source": [
    "# OPTIONAL - 7. Compress them for Colab Training"
   ]
  },
  {
   "cell_type": "code",
   "execution_count": 19,
   "metadata": {},
   "outputs": [],
   "source": [
    "TRAIN_PATH = os.path.join('Tensorflow', 'workspace', 'images', 'train')\n",
    "TEST_PATH = os.path.join('Tensorflow', 'workspace', 'images', 'test')\n",
    "ARCHIVE_PATH = os.path.join('Tensorflow', 'workspace', 'images', 'archive.tar.gz')"
   ]
  },
  {
   "cell_type": "code",
   "execution_count": 20,
   "metadata": {},
   "outputs": [],
   "source": [
    "!tar -czf {ARCHIVE_PATH} {TRAIN_PATH} {TEST_PATH}"
   ]
  },
  {
   "cell_type": "code",
   "execution_count": null,
   "metadata": {},
   "outputs": [],
   "source": []
  }
 ],
 "metadata": {
  "kernelspec": {
   "display_name": "tfod",
   "language": "python",
   "name": "tfod"
  },
  "language_info": {
   "codemirror_mode": {
    "name": "ipython",
    "version": 3
   },
   "file_extension": ".py",
   "mimetype": "text/x-python",
   "name": "python",
   "nbconvert_exporter": "python",
   "pygments_lexer": "ipython3",
   "version": "3.9.7"
  }
 },
 "nbformat": 4,
 "nbformat_minor": 2
}
